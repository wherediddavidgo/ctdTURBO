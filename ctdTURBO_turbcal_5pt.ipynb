{
 "cells": [
  {
   "cell_type": "code",
   "execution_count": 72,
   "metadata": {},
   "outputs": [],
   "source": [
    "import pandas as pd\n",
    "import numpy as np\n",
    "import matplotlib.pyplot as plt\n",
    "import matplotlib as mpl\n",
    "import csv\n",
    "import datetime"
   ]
  },
  {
   "cell_type": "code",
   "execution_count": 66,
   "metadata": {},
   "outputs": [],
   "source": [
    "%reload_ext autoreload\n",
    "%autoreload 2\n",
    "\n",
    "DATA_DIRECTORY=\"C:/Users/David/OneDrive/UNC/honors thesis/ctdTURBO_data\"\n",
    "DATA_FILE_PATH=f\"{DATA_DIRECTORY}/tests/20230629_1.csv\""
   ]
  },
  {
   "cell_type": "code",
   "execution_count": 67,
   "metadata": {},
   "outputs": [],
   "source": [
    "data: pd.DataFrame = pd.read_csv(DATA_FILE_PATH)"
   ]
  },
  {
   "cell_type": "code",
   "execution_count": 68,
   "metadata": {},
   "outputs": [],
   "source": [
    "dt_str = data[\"Date\"] + \" \" + data[\" Time\"]\n",
    "data[\"unix_time\"] = ((pd.to_datetime(dt_str)) - pd.Timestamp(\"1970-01-01\")) // pd.Timedelta('1s')"
   ]
  },
  {
   "cell_type": "code",
   "execution_count": 69,
   "metadata": {},
   "outputs": [],
   "source": [
    "# unix timestamps for time of entry and exit from buckets of varying sediment concentration.\n",
    "uts: list[float] = [\n",
    "    1688034146,\n",
    "    1688034220,\n",
    "    1688034290,\n",
    "    1688034364,\n",
    "    1688034406,\n",
    "    1688034445,\n",
    "    1688034464,\n",
    "    1688034522,\n",
    "    1688034561,\n",
    "    1688034610\n",
    "    ]\n",
    "\n",
    "# turbs are for sediment concentrations determined by vacuum filtration or with a validated turbidity sensor.\n",
    "turbs: list[float] = [\n",
    "    0,\n",
    "    10,\n",
    "    30,\n",
    "    80,\n",
    "    200\n",
    "    ]"
   ]
  },
  {
   "cell_type": "code",
   "execution_count": 70,
   "metadata": {},
   "outputs": [],
   "source": [
    "data[\"Backscatter\"] = data[\"Proximity\"] - data[\"Ambient\"]\n",
    "cal_curve: pd.DataFrame = pd.DataFrame(columns=[\"Sed_conc\", \"Ambient\", \"Proximity\", \"Backscatter\"])\n",
    "n: int = 0\n",
    "# turb_a: pd.DataFrame = data.loc[(data[\"unix_time\"] >= 1688034146) & (data[\"unix_time\"] <= 1688034183)]\n",
    "\n",
    "\n",
    "while n < len(turbs):\n",
    "    # subset = subset.astype({\"Sed_conc\": 'float', \"Ambient\": 'float', \"Proximity\": 'float', \"Backscatter\": 'float'})\n",
    "    # subset[\"Ambient\"] = subset[\"Ambient\"].astype(float)\n",
    "    # subset[\"Proximity\"] = subset[\"Proximity\"].astype(float)\n",
    "    # subset[\"Backscatter\"] = subset[\"Backscatter\"].astype(float)\n",
    "    subset = data.loc[(data[\"unix_time\"] >= uts[2 * n]) & (data[\"unix_time\"] <= uts[(2 * n) + 1])]\n",
    "    subset = subset.astype({\"Ambient\":'float', \"Proximity\":'float', \"Backscatter\":'float'}) \n",
    "\n",
    "    cal_curve.loc[n] = [turbs[n], subset[\"Ambient\"].mean(), subset[\"Proximity\"].mean(), subset[\"Backscatter\"].mean()]\n",
    "    # if n == 0:\n",
    "    #     cal_curve[\"Sed_conc\"]\n",
    "    # cal_curve[\"Sed_conc\"].append(turbs[n])\n",
    "    # prox: pd.Series = data.loc\n",
    "    # cal_curve[\"Proximity\"].append((data.loc[(data[\"unix_time\"] >= uts[2 * n]) & (data[\"unix_time\"] <= uts[(2 * n) + 1])])[\"Proximity\"].mean())\n",
    "    n += 1"
   ]
  },
  {
   "cell_type": "code",
   "execution_count": 71,
   "metadata": {},
   "outputs": [
    {
     "data": {
      "text/plain": [
       "Text(0, 0.5, 'Return')"
      ]
     },
     "execution_count": 71,
     "metadata": {},
     "output_type": "execute_result"
    },
    {
     "data": {
      "image/png": "[encoded data removed]",
      "text/plain": [
       "<Figure size 432x288 with 4 Axes>"
      ]
     },
     "metadata": {
      "needs_background": "light"
     },
     "output_type": "display_data"
    }
   ],
   "source": [
    "# fig, ax1 = plt.subplots()\n",
    "# ax1.scatter(cal_curve[\"Sed_conc\"], cal_curve[\"Ambient\"])\n",
    "fig, axd = plt.subplot_mosaic([['upleft', 'upright'],\n",
    "                               ['lowleft', 'lowright']], constrained_layout = True)\n",
    "axd['upleft'].set_title('Ambient')\n",
    "axd['upleft'].scatter(cal_curve[\"Sed_conc\"], cal_curve[\"Ambient\"])\n",
    "axd['upleft'].set_xlim(xmin=0, xmax = cal_curve[\"Sed_conc\"].max() + (cal_curve[\"Sed_conc\"].max() / 8))\n",
    "axd['upleft'].set_ylim(ymin=0, ymax = cal_curve[\"Ambient\"].max() + (cal_curve[\"Ambient\"].max() / 8))\n",
    "axd['upleft'].set_xlabel(\"TSS (mg/L)\")\n",
    "axd['upleft'].set_ylabel(\"Return\")\n",
    "\n",
    "axd['lowleft'].set_title('Proximity')\n",
    "axd['lowleft'].scatter(cal_curve[\"Sed_conc\"], cal_curve[\"Proximity\"])\n",
    "axd['lowleft'].set_xlim(xmin=0, xmax = cal_curve[\"Sed_conc\"].max() + (cal_curve[\"Sed_conc\"].max() / 8))\n",
    "axd['lowleft'].set_ylim(ymin=0, ymax = cal_curve[\"Proximity\"].max() + (cal_curve[\"Proximity\"].max() / 8))\n",
    "axd['lowleft'].set_xlabel(\"TSS (mg/L)\")\n",
    "axd['lowleft'].set_ylabel(\"Return\")\n",
    "\n",
    "axd['upright'].set_title('Backscatter')\n",
    "axd['upright'].scatter(cal_curve[\"Sed_conc\"], cal_curve[\"Backscatter\"])\n",
    "axd['upright'].set_xlim(xmin=0, xmax = cal_curve[\"Sed_conc\"].max() + (cal_curve[\"Sed_conc\"].max() / 8))\n",
    "axd['upright'].set_ylim(ymin=0, ymax = cal_curve[\"Backscatter\"].max() + (cal_curve[\"Backscatter\"].max() / 8))\n",
    "axd['upright'].set_xlabel(\"TSS (mg/L)\")\n",
    "axd['upright'].set_ylabel(\"Return\")\n",
    "\n",
    "axd['lowright'].set_title('Combined')\n",
    "axd['lowright'].scatter(cal_curve[\"Sed_conc\"], cal_curve[\"Ambient\"])\n",
    "axd['lowright'].scatter(cal_curve[\"Sed_conc\"], cal_curve[\"Proximity\"])\n",
    "axd['lowright'].scatter(cal_curve[\"Sed_conc\"], cal_curve[\"Backscatter\"])\n",
    "axd['lowright'].set_xlim(xmin=0, xmax = cal_curve[\"Sed_conc\"].max() + (cal_curve[\"Sed_conc\"].max() / 8))\n",
    "axd['lowright'].set_ylim(ymin=0, ymax = (1.125 * max([cal_curve[\"Ambient\"].max(), cal_curve[\"Proximity\"].max(), cal_curve[\"Backscatter\"].max()])))\n",
    "axd['lowright'].set_xlabel(\"TSS (mg/L)\")\n",
    "axd['lowright'].set_ylabel(\"Return\")"
   ]
  }
 ],
 "metadata": {
  "kernelspec": {
   "display_name": "Python 3",
   "language": "python",
   "name": "python3"
  },
  "language_info": {
   "codemirror_mode": {
    "name": "ipython",
    "version": 3
   },
   "file_extension": ".py",
   "mimetype": "text/x-python",
   "name": "python",
   "nbconvert_exporter": "python",
   "pygments_lexer": "ipython3",
   "version": "3.9.6"
  },
  "orig_nbformat": 4
 },
 "nbformat": 4,
 "nbformat_minor": 2
}
